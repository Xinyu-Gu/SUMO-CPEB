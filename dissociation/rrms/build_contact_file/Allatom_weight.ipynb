{
 "cells": [
  {
   "cell_type": "code",
   "execution_count": 1,
   "metadata": {},
   "outputs": [],
   "source": [
    "import matplotlib\n",
    "import numpy as np\n",
    "from matplotlib import pyplot as plt\n",
    "\n",
    "from VectorAlgebra import *\n",
    "from Bio.PDB.PDBParser import PDBParser"
   ]
  },
  {
   "cell_type": "code",
   "execution_count": 3,
   "metadata": {},
   "outputs": [],
   "source": [
    "def checkIfNative(xyz_CAi, xyz_CAj):\n",
    "    v = vector(xyz_CAi, xyz_CAj)\n",
    "    r = vabs(v)\n",
    "    if r<4.5: return True\n",
    "    else: return False"
   ]
  },
  {
   "cell_type": "code",
   "execution_count": 4,
   "metadata": {},
   "outputs": [
    {
     "name": "stdout",
     "output_type": "stream",
     "text": [
      "(5, 200)\n"
     ]
    }
   ],
   "source": [
    "p = PDBParser(PERMISSIVE=1)\n",
    "s = p.get_structure(\"0\", \"rrms-b.pdb\")\n",
    "\n",
    "N = len(s[0].get_list()[0])\n",
    "M = len(s[0].get_list()[1])\n",
    "sigma = np.zeros((M,N))\n",
    "print(np.shape(sigma))"
   ]
  },
  {
   "cell_type": "code",
   "execution_count": 7,
   "metadata": {},
   "outputs": [],
   "source": [
    "import itertools\n",
    "for k in range(len(s)): \n",
    "        chains = s[k].get_list()\n",
    "        i1=0\n",
    "        for res1 in chains[1]:\n",
    "            atoms_pdb1=[]\n",
    "            for atom in res1:\n",
    "                atoms_pdb1.append(atom.get_coord())\n",
    "            i2=0\n",
    "            for res2 in chains[0]:\n",
    "                atoms_pdb2=[]\n",
    "                for atom in res2:\n",
    "                    atoms_pdb2.append(atom.get_coord())\n",
    "                for a1, a2 in itertools.product(atoms_pdb1, atoms_pdb2):\n",
    "                    if checkIfNative(a1, a2):\n",
    "                        sigma[i1][i2] += 1\n",
    "                i2 += 1\n",
    "            i1 += 1\n",
    "\n",
    "sigma = sigma/len(s)"
   ]
  },
  {
   "cell_type": "code",
   "execution_count": 60,
   "metadata": {},
   "outputs": [
    {
     "data": {
      "image/png": "[encoded data removed]",
      "text/plain": [
       "<Figure size 720x288 with 2 Axes>"
      ]
     },
     "metadata": {
      "needs_background": "light"
     },
     "output_type": "display_data"
    }
   ],
   "source": [
    "plt.figure(figsize=(10,4))\n",
    "plt.imshow(sigma, aspect='auto')\n",
    "plt.colorbar()\n",
    "plt.savefig(\"aaweight.png\")"
   ]
  },
  {
   "cell_type": "code",
   "execution_count": 25,
   "metadata": {},
   "outputs": [
    {
     "data": {
      "text/plain": [
       "(array([947.,   8.,   3.,   7.,   2.,   1.,   1.,   1.,   0.,   2.,   4.,\n",
       "          0.,   2.,   0.,   0.,   2.,   2.,   1.,   0.,   3.,   0.,   2.,\n",
       "          0.,   0.,   0.,   0.,   1.,   1.,   1.,   0.,   0.,   0.,   0.,\n",
       "          0.,   0.,   0.,   0.,   1.,   0.,   0.,   0.,   0.,   0.,   1.,\n",
       "          0.,   1.,   0.,   0.,   0.,   0.,   0.,   0.,   0.,   1.,   0.,\n",
       "          0.,   0.,   0.,   0.,   1.,   0.,   0.,   0.,   0.,   0.,   0.,\n",
       "          0.,   0.,   0.,   0.,   0.,   1.,   0.,   0.,   1.,   0.,   1.,\n",
       "          0.,   0.,   0.,   0.,   0.,   0.,   0.,   0.,   0.,   0.,   0.,\n",
       "          0.,   0.,   0.,   0.,   0.,   0.,   0.,   0.,   0.,   0.,   0.,\n",
       "          1.]),\n",
       " array([ 0. ,  0.7,  1.4,  2.1,  2.8,  3.5,  4.2,  4.9,  5.6,  6.3,  7. ,\n",
       "         7.7,  8.4,  9.1,  9.8, 10.5, 11.2, 11.9, 12.6, 13.3, 14. , 14.7,\n",
       "        15.4, 16.1, 16.8, 17.5, 18.2, 18.9, 19.6, 20.3, 21. , 21.7, 22.4,\n",
       "        23.1, 23.8, 24.5, 25.2, 25.9, 26.6, 27.3, 28. , 28.7, 29.4, 30.1,\n",
       "        30.8, 31.5, 32.2, 32.9, 33.6, 34.3, 35. , 35.7, 36.4, 37.1, 37.8,\n",
       "        38.5, 39.2, 39.9, 40.6, 41.3, 42. , 42.7, 43.4, 44.1, 44.8, 45.5,\n",
       "        46.2, 46.9, 47.6, 48.3, 49. , 49.7, 50.4, 51.1, 51.8, 52.5, 53.2,\n",
       "        53.9, 54.6, 55.3, 56. , 56.7, 57.4, 58.1, 58.8, 59.5, 60.2, 60.9,\n",
       "        61.6, 62.3, 63. , 63.7, 64.4, 65.1, 65.8, 66.5, 67.2, 67.9, 68.6,\n",
       "        69.3, 70. ]),\n",
       " <a list of 100 Patch objects>)"
      ]
     },
     "execution_count": 25,
     "metadata": {},
     "output_type": "execute_result"
    },
    {
     "data": {
      "image/png": "[encoded data removed]",
      "text/plain": [
       "<Figure size 432x288 with 1 Axes>"
      ]
     },
     "metadata": {
      "needs_background": "light"
     },
     "output_type": "display_data"
    }
   ],
   "source": [
    "plt.hist(sigma.reshape(N*M), bins=100)"
   ]
  },
  {
   "cell_type": "code",
   "execution_count": 27,
   "metadata": {},
   "outputs": [
    {
     "name": "stdout",
     "output_type": "stream",
     "text": [
      "(5, 200)\n"
     ]
    }
   ],
   "source": [
    "print(np.shape(sigma))\n",
    "np.savetxt(\"aaweight.dat\", sigma, fmt='%.3f')"
   ]
  },
  {
   "cell_type": "code",
   "execution_count": 29,
   "metadata": {},
   "outputs": [
    {
     "name": "stdout",
     "output_type": "stream",
     "text": [
      "70.0\n",
      "694.1500000000001\n"
     ]
    }
   ],
   "source": [
    "print(sigma[2][12])\n",
    "print(np.sum(sigma))"
   ]
  },
  {
   "cell_type": "code",
   "execution_count": 62,
   "metadata": {},
   "outputs": [
    {
     "name": "stdout",
     "output_type": "stream",
     "text": [
      "70.01768483719852\n"
     ]
    }
   ],
   "source": [
    "all = np.sort(sigma.reshape(N*M))[977:]\n",
    "tmp=0\n",
    "for i in range(len(all)):\n",
    "    tmp += np.log(all[i])\n",
    "\n",
    "print(tmp)"
   ]
  },
  {
   "cell_type": "code",
   "execution_count": 55,
   "metadata": {},
   "outputs": [
    {
     "name": "stdout",
     "output_type": "stream",
     "text": [
      "2.35\n"
     ]
    }
   ],
   "source": [
    "print(sigma[0][52])"
   ]
  },
  {
   "cell_type": "code",
   "execution_count": 2,
   "metadata": {},
   "outputs": [
    {
     "name": "stdout",
     "output_type": "stream",
     "text": [
      "[[ 16.      1.      7.391   2.97 ]\n",
      " [ 17.      1.     10.31    2.51 ]\n",
      " [ 18.      1.      8.419   2.158]\n",
      " [ 89.      1.      6.274   2.599]\n",
      " [ 92.      1.      4.502   3.951]\n",
      " [ 16.      2.      5.994   2.718]\n",
      " [ 55.      2.      9.892   3.463]\n",
      " [ 81.      2.      8.416   2.447]\n",
      " [ 95.      2.      4.948   3.264]\n",
      " [ 13.      3.      4.552   4.248]\n",
      " [ 55.      3.      7.392   3.906]\n",
      " [ 57.      3.      8.9     2.38 ]\n",
      " [ 97.      3.      5.9     2.632]\n",
      " [127.      3.      7.392   2.438]\n",
      " [ 41.      4.      6.257   3.409]\n",
      " [ 42.      4.     10.273   2.366]\n",
      " [ 57.      4.      5.394   3.976]\n",
      " [160.      4.      4.954   3.623]\n",
      " [161.      4.      4.492   2.614]\n",
      " [ 41.      5.      8.219   2.698]\n",
      " [121.      5.      5.086   3.721]\n",
      " [160.      5.      7.912   2.988]\n",
      " [196.      5.      6.443   2.929]\n",
      " [199.      5.      6.882   2.169]]\n"
     ]
    }
   ],
   "source": [
    "test=np.loadtxt(\"contact_protein_dna_ln_aaweight_cnct8.dat\")\n",
    "print(test)"
   ]
  },
  {
   "cell_type": "code",
   "execution_count": 3,
   "metadata": {},
   "outputs": [
    {
     "data": {
      "text/plain": [
       "72.17699999999999"
      ]
     },
     "execution_count": 3,
     "metadata": {},
     "output_type": "execute_result"
    }
   ],
   "source": [
    "sum(test[:,3])"
   ]
  },
  {
   "cell_type": "code",
   "execution_count": 4,
   "metadata": {},
   "outputs": [
    {
     "data": {
      "text/plain": [
       "array([21.95127 , 25.8781  , 18.168202, 16.306126, 17.787402, 16.291692,\n",
       "       34.255996, 20.593952, 16.150272, 19.336896, 28.873152, 21.182   ,\n",
       "       15.5288  , 18.021696, 21.330113, 24.305918, 21.446544, 17.948342,\n",
       "       11.742088, 22.174862, 18.925006, 23.641056, 18.871547, 14.927058])"
      ]
     },
     "execution_count": 4,
     "metadata": {},
     "output_type": "execute_result"
    }
   ],
   "source": [
    "test[:,2]*test[:,3]"
   ]
  },
  {
   "cell_type": "code",
   "execution_count": 10,
   "metadata": {},
   "outputs": [
    {
     "name": "stdout",
     "output_type": "stream",
     "text": [
      "0.9901560398729242\n"
     ]
    }
   ],
   "source": [
    "tmp=0\n",
    "for i in range(len(test)):\n",
    "    tmp += exp(-((test[i][2]-15)**2)/10)*test[i][3]\n",
    "print(tmp)"
   ]
  },
  {
   "cell_type": "code",
   "execution_count": 11,
   "metadata": {},
   "outputs": [
    {
     "name": "stdout",
     "output_type": "stream",
     "text": [
      "11.193489489678143\n"
     ]
    }
   ],
   "source": [
    "tmp=0\n",
    "for i in range(len(test)):\n",
    "    tmp += exp(-((test[i][2]-12)**2)/10)*test[i][3]\n",
    "print(tmp)"
   ]
  },
  {
   "cell_type": "code",
   "execution_count": 13,
   "metadata": {},
   "outputs": [
    {
     "name": "stdout",
     "output_type": "stream",
     "text": [
      "18.968954609079795\n"
     ]
    }
   ],
   "source": [
    "tmp=0\n",
    "for i in range(len(test)):\n",
    "    tmp += exp(-((test[i][2]-11)**2)/10)*test[i][3]\n",
    "print(tmp)"
   ]
  },
  {
   "cell_type": "code",
   "execution_count": 14,
   "metadata": {},
   "outputs": [
    {
     "name": "stdout",
     "output_type": "stream",
     "text": [
      "28.655909230707472\n"
     ]
    }
   ],
   "source": [
    "tmp=0\n",
    "for i in range(len(test)):\n",
    "    tmp += exp(-((test[i][2]-10)**2)/10)*test[i][3]\n",
    "print(tmp)"
   ]
  },
  {
   "cell_type": "code",
   "execution_count": null,
   "metadata": {},
   "outputs": [],
   "source": []
  }
 ],
 "metadata": {
  "kernelspec": {
   "display_name": "Python 3",
   "language": "python",
   "name": "python3"
  },
  "language_info": {
   "codemirror_mode": {
    "name": "ipython",
    "version": 3
   },
   "file_extension": ".py",
   "mimetype": "text/x-python",
   "name": "python",
   "nbconvert_exporter": "python",
   "pygments_lexer": "ipython3",
   "version": "3.7.1"
  }
 },
 "nbformat": 4,
 "nbformat_minor": 2
}
