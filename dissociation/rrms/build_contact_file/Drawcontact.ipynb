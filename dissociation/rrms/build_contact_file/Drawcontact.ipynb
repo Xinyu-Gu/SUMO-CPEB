{
 "cells": [
  {
   "cell_type": "code",
   "execution_count": 2,
   "metadata": {},
   "outputs": [],
   "source": [
    "import matplotlib\n",
    "import numpy as np\n",
    "from matplotlib import pyplot as plt\n",
    "\n",
    "from VectorAlgebra import *\n",
    "from Bio.PDB.PDBParser import PDBParser"
   ]
  },
  {
   "cell_type": "code",
   "execution_count": 16,
   "metadata": {},
   "outputs": [],
   "source": [
    "p = PDBParser(PERMISSIVE=1)\n",
    "s = p.get_structure(\"0\", \"clean-0.pdb\")\n",
    "\n",
    "N = len(s[0].get_list()[0])\n",
    "M = len(s[0].get_list()[1])\n",
    "sigma = np.zeros((N,M))\n",
    "   \n",
    "for k in range(1, 21): \n",
    "        ca_atoms_pdb = [] \n",
    "        res_ids = []\n",
    "        chains = s[0].get_list()\n",
    "        for chain in chains:\n",
    "           for res in chain:\n",
    "                res_id = res.get_id()[1]\n",
    "                res_ids.append(res_id)\n",
    "                if res.has_id('CB'):\n",
    "                        ca_atoms_pdb.append(res['CB'].get_coord())\n",
    "                elif res.has_id('CA'):\n",
    "                        ca_atoms_pdb.append(res['CA'].get_coord())\n",
    "                elif res.has_id('A'):\n",
    "                        ca_atoms_pdb.append(res['A'].get_coord())\n",
    "                elif res.has_id('G'):\n",
    "                        ca_atoms_pdb.append(res['G'].get_coord())\n",
    "                elif res.has_id('C'):\n",
    "                        ca_atoms_pdb.append(res['C'].get_coord())\n",
    "                elif res.has_id('T'):\n",
    "                        ca_atoms_pdb.append(res['T'].get_coord())\n",
    "        \n",
    "        \n",
    "        for i in range(0, N):\n",
    "                for j in range(0, M):\n",
    "                                xyz_CAi = ca_atoms_pdb[i]\n",
    "                                xyz_CAj = ca_atoms_pdb[N+j]\n",
    "                                sigma[i][j] += vabs(vector(xyz_CAi, xyz_CAj))\n",
    "        if k != 20:    \n",
    "            p = PDBParser(PERMISSIVE=1)\n",
    "            pdb_id = str(k)\n",
    "            pdb_file = \"clean-\" + str(k) + \".pdb\"\n",
    "            s = p.get_structure(pdb_id, pdb_file)\n",
    "sigma = sigma/20"
   ]
  },
  {
   "cell_type": "code",
   "execution_count": null,
   "metadata": {},
   "outputs": [],
   "source": [
    "plt.imshow(sigma)\n",
    "plt.colorbar()\n",
    "plt.savefig(\"contact.png\")"
   ]
  },
  {
   "cell_type": "code",
   "execution_count": 27,
   "metadata": {},
   "outputs": [],
   "source": [
    "out = open('contact_protein_dna.dat','w')\n",
    "for i in range(N):\n",
    "    for j in range(M):\n",
    "          if sigma[i][j] <= 8:\n",
    "             out.write(str(res_ids[N+j])+ '\\t')\n",
    "             out.write(str(res_ids[i])+ '\\t')\n",
    "             out.write(str(round(sigma[i][j], 3))+ '\\t')\n",
    "             out.write('\\n')\n",
    "out.close()"
   ]
  },
  {
   "cell_type": "code",
   "execution_count": 29,
   "metadata": {},
   "outputs": [],
   "source": [
    "out = open('contact_protein_dna_9.dat','w')\n",
    "for i in range(N):\n",
    "    for j in range(M):\n",
    "          if sigma[i][j] <= 9:\n",
    "             out.write(str(res_ids[N+j])+ '\\t')\n",
    "             out.write(str(res_ids[i])+ '\\t')\n",
    "             out.write(str(round(sigma[i][j], 3))+ '\\t')\n",
    "             out.write('\\n')\n",
    "out.close()"
   ]
  },
  {
   "cell_type": "code",
   "execution_count": 30,
   "metadata": {},
   "outputs": [],
   "source": [
    "out = open('contact_protein_dna_9.5.dat','w')\n",
    "for i in range(N):\n",
    "    for j in range(M):\n",
    "          if sigma[i][j] <= 9.5:\n",
    "             out.write(str(res_ids[N+j])+ '\\t')\n",
    "             out.write(str(res_ids[i])+ '\\t')\n",
    "             out.write(str(round(sigma[i][j], 3))+ '\\t')\n",
    "             out.write('\\n')\n",
    "out.close()"
   ]
  },
  {
   "cell_type": "code",
   "execution_count": 31,
   "metadata": {},
   "outputs": [],
   "source": [
    "out = open('contact_protein_dna_12.dat','w')\n",
    "for i in range(N):\n",
    "    for j in range(M):\n",
    "          if sigma[i][j] <= 12:\n",
    "             out.write(str(res_ids[N+j])+ '\\t')\n",
    "             out.write(str(res_ids[i])+ '\\t')\n",
    "             out.write(str(round(sigma[i][j], 3))+ '\\t')\n",
    "             out.write('\\n')\n",
    "out.close()"
   ]
  },
  {
   "cell_type": "code",
   "execution_count": 32,
   "metadata": {},
   "outputs": [],
   "source": [
    "weight = np.loadtxt(\"aaweight.dat\")\n",
    "out = open('contact_protein_dna_aaweight.dat','w')\n",
    "for i in range(N):\n",
    "    for j in range(M):\n",
    "          if weight[i][j] > 1:\n",
    "             out.write(str(res_ids[N+j])+ '\\t')\n",
    "             out.write(str(res_ids[i])+ '\\t')\n",
    "             out.write(str(round(sigma[i][j], 3))+ '\\t')\n",
    "             out.write(str(round(weight[i][j], 3))+ '\\t')\n",
    "             out.write('\\n')\n",
    "out.close()"
   ]
  },
  {
   "cell_type": "code",
   "execution_count": 33,
   "metadata": {},
   "outputs": [],
   "source": [
    "weight = np.loadtxt(\"aaweight.dat\")\n",
    "out = open('contact_protein_dna_ln_aaweight.dat','w')\n",
    "for i in range(N):\n",
    "    for j in range(M):\n",
    "          if weight[i][j] > 1:\n",
    "             out.write(str(res_ids[N+j])+ '\\t')\n",
    "             out.write(str(res_ids[i])+ '\\t')\n",
    "             out.write(str(round(sigma[i][j], 3))+ '\\t')\n",
    "             out.write(str(round(np.log(weight[i][j]), 3))+ '\\t')\n",
    "             out.write('\\n')\n",
    "out.close()"
   ]
  },
  {
   "cell_type": "code",
   "execution_count": 34,
   "metadata": {},
   "outputs": [],
   "source": [
    "weight = np.loadtxt(\"aaweight.dat\")\n",
    "out = open('contact_protein_dna_ln_aaweight_cnct8.dat','w')\n",
    "for i in range(N):\n",
    "    for j in range(M):\n",
    "          if weight[i][j] > 8:\n",
    "             out.write(str(res_ids[N+j])+ '\\t')\n",
    "             out.write(str(res_ids[i])+ '\\t')\n",
    "             out.write(str(round(sigma[i][j], 3))+ '\\t')\n",
    "             out.write(str(round(np.log(weight[i][j]), 3))+ '\\t')\n",
    "             out.write('\\n')\n",
    "out.close()"
   ]
  },
  {
   "cell_type": "code",
   "execution_count": null,
   "metadata": {},
   "outputs": [],
   "source": []
  }
 ],
 "metadata": {
  "kernelspec": {
   "display_name": "Python 3",
   "language": "python",
   "name": "python3"
  },
  "language_info": {
   "codemirror_mode": {
    "name": "ipython",
    "version": 3
   },
   "file_extension": ".py",
   "mimetype": "text/x-python",
   "name": "python",
   "nbconvert_exporter": "python",
   "pygments_lexer": "ipython3",
   "version": "3.7.1"
  }
 },
 "nbformat": 4,
 "nbformat_minor": 2
}
