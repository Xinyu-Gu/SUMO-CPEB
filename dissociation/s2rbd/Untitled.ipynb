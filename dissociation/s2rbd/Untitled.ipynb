{
 "cells": [
  {
   "cell_type": "code",
   "execution_count": 10,
   "metadata": {},
   "outputs": [],
   "source": [
    "import numpy as np\n",
    "from matplotlib import pyplot as plt\n",
    "import pandas as pd\n",
    "import scipy\n",
    "from scipy import stats"
   ]
  },
  {
   "cell_type": "code",
   "execution_count": null,
   "metadata": {},
   "outputs": [],
   "source": [
    "plt.figure(figsize=(8,6))\n",
    "for i in range(0,1):\n",
    "    at=np.loadtxt(str(i)+\"-wham.dat\")\n",
    "    a=np.transpose(at)\n",
    "    plt.hist(a[-1],bins=10, alpha=0.5, label='E0='+str(i-31))\n",
    "#plt.legend(fontsize=14)\n",
    "plt.xticks(fontsize=14)\n",
    "plt.yticks(fontsize=14)\n",
    "plt.xlabel('E_amhgo (Kcal/mol)', fontsize=16)\n",
    "plt.ylabel('Frequence', fontsize=16)\n",
    "#plt.savefig(\"hist.png\")"
   ]
  },
  {
   "cell_type": "code",
   "execution_count": null,
   "metadata": {},
   "outputs": [],
   "source": [
    "plt.figure(figsize=(16,8))\n",
    "for i in range(33,36):\n",
    "    at=np.loadtxt(str(i)+\"-8-wham-2d.dat\")\n",
    "    a=np.transpose(at)\n",
    "    plt.hist(a[-1],bins=10, alpha=0.5)"
   ]
  },
  {
   "cell_type": "code",
   "execution_count": null,
   "metadata": {},
   "outputs": [],
   "source": [
    "a=pd.read_csv('pmf-1.dat', header=None, delim_whitespace=True, comment='#')\n",
    "\n",
    "a.columns = ['r', 'pmf', 'e1','prob', 'e2']\n",
    "plt.figure(figsize=(6.4,5))\n",
    "plt.errorbar(a.r, a.pmf, yerr=a.e1)\n",
    "plt.xlabel('E_amhgo (Kcal/mol)', fontsize=16)\n",
    "plt.ylabel('Free Energy (Kcal/mol)', fontsize=16)\n",
    "plt.xticks(fontsize=14)\n",
    "plt.yticks(fontsize=14)\n",
    "plt.xlim(-30,0)\n",
    "plt.ylim(0,10)\n",
    "#plt.savefig('pmf-corrected-6-bin100.png')"
   ]
  },
  {
   "cell_type": "code",
   "execution_count": null,
   "metadata": {},
   "outputs": [],
   "source": [
    "a=pd.read_csv('pmf-2.dat', header=None, delim_whitespace=True, comment='#')\n",
    "\n",
    "a.columns = ['r', 'pmf', 'e1','prob', 'e2']\n",
    "plt.figure(figsize=(6.4,5))\n",
    "plt.errorbar(a.r, a.pmf, yerr=a.e1)\n",
    "plt.xlabel('E_amhgo (Kcal/mol)', fontsize=16)\n",
    "plt.ylabel('Free Energy (Kcal/mol)', fontsize=16)\n",
    "plt.xticks(fontsize=14)\n",
    "plt.yticks(fontsize=14)\n",
    "plt.xlim(-30,0)\n",
    "plt.ylim(0,10)\n",
    "plt.savefig('pmf.png')"
   ]
  },
  {
   "cell_type": "code",
   "execution_count": null,
   "metadata": {},
   "outputs": [],
   "source": [
    "a=pd.read_csv('pmf-3.dat', header=None, delim_whitespace=True, comment='#')\n",
    "\n",
    "a.columns = ['r', 'pmf', 'e1','prob', 'e2']\n",
    "plt.figure(figsize=(6.4,5))\n",
    "plt.errorbar(a.r, a.pmf, yerr=a.e1)\n",
    "plt.xlabel('E_amhgo (Kcal/mol)', fontsize=16)\n",
    "plt.ylabel('Free Energy (Kcal/mol)', fontsize=16)\n",
    "plt.xticks(fontsize=14)\n",
    "plt.yticks(fontsize=14)\n",
    "plt.xlim(-30,0)\n",
    "plt.ylim(0,10)\n",
    "#plt.savefig('pmf-corrected-6-bin100.png')"
   ]
  },
  {
   "cell_type": "code",
   "execution_count": 2,
   "metadata": {},
   "outputs": [],
   "source": [
    "from sklearn.decomposition import PCA\n",
    "from scipy.spatial import distance as sdist\n",
    "import mdtraj as md\n",
    "import seaborn as sns\n",
    "import prody"
   ]
  },
  {
   "cell_type": "code",
   "execution_count": 4,
   "metadata": {},
   "outputs": [],
   "source": [
    "components = np.loadtxt(\"../../../RRMs/free/free/new_cartesin_components.dat\")\n",
    "mean = np.loadtxt(\"../../../RRMs/free/free/new_cartesin_mean_coords.dat\")\n",
    "ref = md.load(\"../../../RRMs/free/free/1/freeRRMs-openmmawsem.pdb\")\n",
    "n = np.loadtxt(\"../../../RRMs/free/free/nail.index\")\n",
    "nail = [a.index for a in ref.topology.atoms if a.name == 'CA' and a.residue.index in n]"
   ]
  },
  {
   "cell_type": "code",
   "execution_count": 5,
   "metadata": {},
   "outputs": [],
   "source": [
    "for f in range(0,33):\n",
    "    traj = md.load('%i/movie.pdb'%f)\n",
    "    traj_nail = [a.index for a in traj.topology.atoms if a.name == 'CA' and a.residue.index-5 in n]\n",
    "    traj_aligned = traj.superpose(ref, atom_indices=traj_nail, ref_atom_indices=nail, parallel=False)\n",
    "    CA = [a.index for a in traj.topology.atoms if a.name == 'CA' and a.residue.index-5 < 200]\n",
    "    coords = traj_aligned.restrict_atoms(CA).xyz.reshape(traj_aligned.n_frames, len(CA) * 3)\n",
    "\n",
    "    centered_coords = coords - mean\n",
    "    proj = np.dot(components[0], centered_coords.T)\n",
    "    np.savetxt(\"%i-wham-pc0.dat\"%f, proj)"
   ]
  },
  {
   "cell_type": "code",
   "execution_count": 6,
   "metadata": {},
   "outputs": [],
   "source": [
    "for f in range(33,36):\n",
    "    for f1 in range(9):\n",
    "        traj = md.load('%i-%i/movie.pdb' %(f, f1))\n",
    "        traj_nail = [a.index for a in traj.topology.atoms if a.name == 'CA' and a.residue.index-5 in n]\n",
    "        traj_aligned = traj.superpose(ref, atom_indices=traj_nail, ref_atom_indices=nail, parallel=False)\n",
    "        CA = [a.index for a in traj.topology.atoms if a.name == 'CA' and a.residue.index-5 < 200]\n",
    "        coords = traj_aligned.restrict_atoms(CA).xyz.reshape(traj_aligned.n_frames, len(CA) * 3)\n",
    "\n",
    "        centered_coords = coords - mean\n",
    "        proj = np.dot(components[0], centered_coords.T)\n",
    "        np.savetxt(\"%i-%i-wham-pc0.dat\"%(f, f1), proj)"
   ]
  },
  {
   "cell_type": "code",
   "execution_count": null,
   "metadata": {},
   "outputs": [],
   "source": [
    "plt.figure(figsize=(16,8))\n",
    "for i in range(1,121):\n",
    "    at=np.loadtxt(str(i)+\"-wham.dat\")\n",
    "    a=np.transpose(at)\n",
    "    plt.hist(a[-1],bins=10, alpha=0.5)"
   ]
  },
  {
   "cell_type": "code",
   "execution_count": null,
   "metadata": {},
   "outputs": [],
   "source": [
    "at=np.loadtxt(\"42-wham.dat\")\n",
    "a=np.transpose(at)\n",
    "plt.hist(a[-1],bins=20, alpha=0.5)"
   ]
  },
  {
   "cell_type": "code",
   "execution_count": null,
   "metadata": {},
   "outputs": [],
   "source": [
    "for f in range(26,27):\n",
    "    proj=np.loadtxt(\"%i-wham-pc0.dat\"%f)\n",
    "    plt.plot(proj)"
   ]
  },
  {
   "cell_type": "code",
   "execution_count": null,
   "metadata": {},
   "outputs": [],
   "source": [
    "a=pd.read_csv('2dpmf-1.dat', header=None, delim_whitespace=True, comment='#')\n",
    "\n",
    "a.columns = ['beta', 'alpha', 'pmf','prob']\n",
    "b=a[a.pmf<9999]\n",
    "\n",
    "#b.pmf[b.pmf>9999] = np.max(a.pmf) + 1\n",
    "#levels=np.arange(0.0, np.max(a.pmf) + 0.4, 0.4)\n",
    "#b.pmf[b.pmf>9999] = 20\n",
    "#b.pmf[b.pmf>20] = 20\n",
    "#levels=np.arange(-2, 20, 0.5)\n",
    "levels=np.arange(0, 12, 0.5)\n",
    "\n",
    "plt.figure(figsize=(9,7.5))\n",
    "ax = plt.gca()\n",
    "minp=np.min(b.pmf+2*0.001987*300*np.log(b.alpha))\n",
    "CS = ax.tricontourf(b.beta, b.alpha, b.pmf+2*0.001987*300*np.log(b.alpha)-minp, levels, cmap=plt.get_cmap('jet'))\n",
    "#CS = ax.tricontourf(b.beta, b.alpha, b.pmf+2*0.001987*300*np.log(b.beta), levels, cmap=plt.get_cmap('jet'))\n",
    "cbar = plt.colorbar(CS, ax=ax)\n",
    "cbar.ax.tick_params(labelsize=18)\n",
    "\n",
    "plt.tick_params(axis='x', labelsize=20)\n",
    "plt.tick_params(axis='y', labelsize=20)\n",
    "\n",
    "plt.xlabel(\"E\", fontsize=24)\n",
    "plt.ylabel(\"R (nm)\", fontsize=24)\n"
   ]
  },
  {
   "cell_type": "code",
   "execution_count": null,
   "metadata": {},
   "outputs": [],
   "source": [
    "a=pd.read_csv('2dpmf-2.dat', header=None, delim_whitespace=True, comment='#')\n",
    "\n",
    "a.columns = ['beta', 'alpha', 'pmf','prob']\n",
    "b=a[a.pmf<9999]\n",
    "\n",
    "#b.pmf[b.pmf>9999] = np.max(a.pmf) + 1\n",
    "#levels=np.arange(0.0, np.max(a.pmf) + 0.4, 0.4)\n",
    "#b.pmf[b.pmf>9999] = 20\n",
    "#b.pmf[b.pmf>20] = 20\n",
    "#levels=np.arange(-2, 20, 0.5)\n",
    "levels=np.arange(0, 15, 0.5)\n",
    "\n",
    "plt.figure(figsize=(9,7.5))\n",
    "ax = plt.gca()\n",
    "minp=np.min(b.pmf+2*0.001987*300*np.log(b.alpha))\n",
    "CS = ax.tricontourf(b.beta, b.alpha, b.pmf+2*0.001987*300*np.log(b.alpha)-minp, levels, cmap=plt.get_cmap('jet'))\n",
    "#CS = ax.tricontourf(b.beta, b.alpha, b.pmf+2*0.001987*300*np.log(b.beta), levels, cmap=plt.get_cmap('jet'))\n",
    "cbar = plt.colorbar(CS, ax=ax)\n",
    "cbar.ax.tick_params(labelsize=18)\n",
    "\n",
    "plt.tick_params(axis='x', labelsize=20)\n",
    "plt.tick_params(axis='y', labelsize=20)\n",
    "\n",
    "plt.xlabel(\"E\", fontsize=24)\n",
    "plt.ylabel(\"R (nm)\", fontsize=24)"
   ]
  },
  {
   "cell_type": "code",
   "execution_count": 7,
   "metadata": {},
   "outputs": [
    {
     "data": {
      "image/png": "[encoded data removed]",
      "text/plain": [
       "<Figure size 648x540 with 2 Axes>"
      ]
     },
     "metadata": {
      "needs_background": "light"
     },
     "output_type": "display_data"
    }
   ],
   "source": [
    "a=pd.read_csv('2dpmf-3.dat', header=None, delim_whitespace=True, comment='#')\n",
    "\n",
    "a.columns = ['beta', 'alpha', 'pmf','prob']\n",
    "b=a[a.pmf<9999]\n",
    "\n",
    "#b.pmf[b.pmf>9999] = np.max(a.pmf) + 1\n",
    "#levels=np.arange(0.0, np.max(a.pmf) + 0.4, 0.4)\n",
    "#b.pmf[b.pmf>9999] = 20\n",
    "#b.pmf[b.pmf>20] = 20\n",
    "#levels=np.arange(-2, 20, 0.5)\n",
    "levels=np.arange(0, 16, 0.5)\n",
    "\n",
    "plt.figure(figsize=(9,7.5))\n",
    "ax = plt.gca()\n",
    "minp=np.min(b.pmf+2*0.001987*300*np.log(b.alpha))\n",
    "CS = ax.tricontourf(b.beta, b.alpha, b.pmf+2*0.001987*300*np.log(b.alpha)-minp, levels, cmap=plt.get_cmap('jet'))\n",
    "#CS = ax.tricontourf(b.beta, b.alpha, b.pmf+2*0.001987*300*np.log(b.beta), levels, cmap=plt.get_cmap('jet'))\n",
    "cbar = plt.colorbar(CS, ax=ax)\n",
    "cbar.ax.tick_params(labelsize=18)\n",
    "\n",
    "plt.tick_params(axis='x', labelsize=20)\n",
    "plt.tick_params(axis='y', labelsize=20)\n",
    "plt.xlim(-35,1)\n",
    "plt.ylim(0.3,6)\n",
    "plt.xlabel(\"E_amhgo (Kcal/mol)\", fontsize=24)\n",
    "plt.ylabel(\"R (nm)\", fontsize=24)\n",
    "plt.savefig(\"2dpmf.png\")"
   ]
  },
  {
   "cell_type": "code",
   "execution_count": null,
   "metadata": {},
   "outputs": [],
   "source": [
    "tmp=[]\n",
    "plt.figure(figsize=(16,8))\n",
    "\n",
    "for i in range(0,32):\n",
    "    at=np.loadtxt(str(i)+\"-wham.dat\")\n",
    "    a=np.transpose(at)\n",
    "   # plt.hist(a[-1]-(1.1+0.05*i),bins=10, alpha=0.5)\n",
    "    tmp.append((np.dot(a[-1]-(i-31),a[-1]-(i-31))/len(a[-1]))**0.5)\n",
    "    \n",
    "plt.plot(tmp)"
   ]
  },
  {
   "cell_type": "code",
   "execution_count": null,
   "metadata": {},
   "outputs": [],
   "source": [
    "tmp=[]\n",
    "plt.figure(figsize=(16,8))\n",
    "for i in range(20,29):\n",
    "    at=np.loadtxt(str(i)+\"-wham.dat\")\n",
    "    a=np.transpose(at)\n",
    "    plt.hist(a[-1]-(i-31),bins=10, alpha=0.5)\n",
    "    #tmp.append((np.dot(a[-1]-(1.1+0.05*i),a[-1]-(1.1+0.05*i))/len(a[-1]))**0.5)\n",
    "    \n",
    "plt.plot(tmp)"
   ]
  },
  {
   "cell_type": "code",
   "execution_count": null,
   "metadata": {},
   "outputs": [],
   "source": [
    "tmp=[]\n",
    "plt.figure(figsize=(16,8))\n",
    "for i in range(3,10):\n",
    "    at=np.loadtxt(\"n_\" +str(i)+\"-wham.dat\")\n",
    "    a=np.transpose(at)\n",
    "    plt.hist(a[-1]-(0.3+0.05*i),bins=10, alpha=0.5)\n",
    "    #tmp.append((np.dot(a[-1]-(1.1+0.05*i),a[-1]-(1.1+0.05*i))/len(a[-1]))**0.5)\n",
    "    \n",
    "plt.plot(tmp)"
   ]
  },
  {
   "cell_type": "code",
   "execution_count": null,
   "metadata": {},
   "outputs": [],
   "source": [
    "a=pd.read_csv('pcpmf-1.dat', header=None, delim_whitespace=True, comment='#')\n",
    "\n",
    "a.columns = ['beta', 'alpha', 'pmf','prob']\n",
    "b=a[a.pmf<9999]\n",
    "\n",
    "levels=np.arange(0, 7, 0.5)\n",
    "\n",
    "plt.figure(figsize=(9,7.5))\n",
    "ax = plt.gca()\n",
    "CS = ax.tricontourf(b.beta, b.alpha, b.pmf, levels, cmap=plt.get_cmap('jet'))\n",
    "#CS = ax.tricontourf(b.beta, b.alpha, b.pmf+2*0.001987*300*np.log(b.beta), levels, cmap=plt.get_cmap('jet'))\n",
    "cbar = plt.colorbar(CS, ax=ax)\n",
    "cbar.ax.tick_params(labelsize=18)\n",
    "\n",
    "plt.tick_params(axis='x', labelsize=20)\n",
    "plt.tick_params(axis='y', labelsize=20)\n",
    "plt.xlim(-44,0)\n",
    "plt.ylim(-17,30)\n",
    "plt.xlabel(\"E_amhgo (Kcal/mol)\", fontsize=24)\n",
    "plt.ylabel(\"PC0\", fontsize=24)"
   ]
  },
  {
   "cell_type": "code",
   "execution_count": null,
   "metadata": {},
   "outputs": [],
   "source": [
    "a=pd.read_csv('pcpmf-2.dat', header=None, delim_whitespace=True, comment='#')\n",
    "\n",
    "a.columns = ['beta', 'alpha', 'pmf','prob']\n",
    "b=a[a.pmf<9999]\n",
    "\n",
    "levels=np.arange(0, 7, 0.5)\n",
    "\n",
    "plt.figure(figsize=(9,7.5))\n",
    "ax = plt.gca()\n",
    "CS = ax.tricontourf(b.beta, b.alpha, b.pmf, levels, cmap=plt.get_cmap('jet'))\n",
    "#CS = ax.tricontourf(b.beta, b.alpha, b.pmf+2*0.001987*300*np.log(b.beta), levels, cmap=plt.get_cmap('jet'))\n",
    "cbar = plt.colorbar(CS, ax=ax)\n",
    "cbar.ax.tick_params(labelsize=18)\n",
    "\n",
    "plt.tick_params(axis='x', labelsize=20)\n",
    "plt.tick_params(axis='y', labelsize=20)\n",
    "plt.xlim(-44,0)\n",
    "plt.ylim(-17,30)\n",
    "plt.xlabel(\"E_amhgo (Kcal/mol)\", fontsize=24)\n",
    "plt.ylabel(\"PC0\", fontsize=24)"
   ]
  },
  {
   "cell_type": "code",
   "execution_count": null,
   "metadata": {},
   "outputs": [],
   "source": [
    "a=pd.read_csv('pcpmf-3.dat', header=None, delim_whitespace=True, comment='#')\n",
    "\n",
    "a.columns = ['beta', 'alpha', 'pmf','prob']\n",
    "b=a[a.pmf<9999]\n",
    "\n",
    "levels=np.arange(0, 9, 0.5)\n",
    "\n",
    "plt.figure(figsize=(9,7.5))\n",
    "ax = plt.gca()\n",
    "CS = ax.tricontourf(b.beta, b.alpha, b.pmf, levels, cmap=plt.get_cmap('jet'))\n",
    "#CS = ax.tricontourf(b.beta, b.alpha, b.pmf+2*0.001987*300*np.log(b.beta), levels, cmap=plt.get_cmap('jet'))\n",
    "cbar = plt.colorbar(CS, ax=ax)\n",
    "cbar.ax.tick_params(labelsize=18)\n",
    "\n",
    "plt.tick_params(axis='x', labelsize=20)\n",
    "plt.tick_params(axis='y', labelsize=20)\n",
    "plt.xlim(-44,0)\n",
    "plt.ylim(-17,30)\n",
    "plt.xlabel(\"E_amhgo (Kcal/mol)\", fontsize=24)\n",
    "plt.ylabel(\"PC0\", fontsize=24)"
   ]
  },
  {
   "cell_type": "code",
   "execution_count": null,
   "metadata": {},
   "outputs": [],
   "source": [
    "a=pd.read_csv('pcpmf-4.dat', header=None, delim_whitespace=True, comment='#')\n",
    "\n",
    "a.columns = ['beta', 'alpha', 'pmf','prob']\n",
    "b=a[a.pmf<9999]\n",
    "\n",
    "levels=np.arange(0, 9, 0.5)\n",
    "\n",
    "plt.figure(figsize=(9,7.5))\n",
    "ax = plt.gca()\n",
    "CS = ax.tricontourf(b.beta, b.alpha, b.pmf, levels, cmap=plt.get_cmap('jet'))\n",
    "#CS = ax.tricontourf(b.beta, b.alpha, b.pmf+2*0.001987*300*np.log(b.beta), levels, cmap=plt.get_cmap('jet'))\n",
    "cbar = plt.colorbar(CS, ax=ax)\n",
    "cbar.ax.tick_params(labelsize=18)\n",
    "\n",
    "plt.tick_params(axis='x', labelsize=20)\n",
    "plt.tick_params(axis='y', labelsize=20)\n",
    "plt.xlim(-44,0)\n",
    "plt.ylim(-17,30)\n",
    "plt.xlabel(\"E_amhgo (Kcal/mol)\", fontsize=24)\n",
    "plt.ylabel(\"PC0\", fontsize=24)"
   ]
  },
  {
   "cell_type": "code",
   "execution_count": null,
   "metadata": {},
   "outputs": [],
   "source": [
    "a=pd.read_csv('pcpmf-5.dat', header=None, delim_whitespace=True, comment='#')\n",
    "\n",
    "a.columns = ['beta', 'alpha', 'pmf','prob']\n",
    "b=a[a.pmf<9999]\n",
    "\n",
    "levels=np.arange(0, 9, 0.5)\n",
    "\n",
    "plt.figure(figsize=(9,7.5))\n",
    "ax = plt.gca()\n",
    "CS = ax.tricontourf(b.beta, b.alpha, b.pmf, levels, cmap=plt.get_cmap('jet'))\n",
    "#CS = ax.tricontourf(b.beta, b.alpha, b.pmf+2*0.001987*300*np.log(b.beta), levels, cmap=plt.get_cmap('jet'))\n",
    "cbar = plt.colorbar(CS, ax=ax)\n",
    "cbar.ax.tick_params(labelsize=18)\n",
    "\n",
    "plt.tick_params(axis='x', labelsize=20)\n",
    "plt.tick_params(axis='y', labelsize=20)\n",
    "plt.xlim(-44,0)\n",
    "plt.ylim(-17,30)\n",
    "plt.xlabel(\"E_amhgo (Kcal/mol)\", fontsize=24)\n",
    "plt.ylabel(\"PC0\", fontsize=24)\n",
    "plt.savefig(\"pcpmf.png\")"
   ]
  },
  {
   "cell_type": "code",
   "execution_count": 9,
   "metadata": {},
   "outputs": [
    {
     "name": "stdout",
     "output_type": "stream",
     "text": [
      "9000\n",
      "151\n",
      "151\n"
     ]
    },
    {
     "data": {
      "image/png": "[encoded data removed]",
      "text/plain": [
       "<Figure size 460.8x360 with 1 Axes>"
      ]
     },
     "metadata": {
      "needs_background": "light"
     },
     "output_type": "display_data"
    }
   ],
   "source": [
    "a=pd.read_csv('2dpmf-3.dat', header=None, delim_whitespace=True, comment='#')\n",
    "a.columns = ['E', 'r', 'pmf','prob']\n",
    "print(len(a))\n",
    "\n",
    "\n",
    "tmp=0\n",
    "p=0\n",
    "x=[]\n",
    "P=[]\n",
    "for row in a.itertuples():\n",
    "    if row.E != tmp: \n",
    "        x.append(tmp)\n",
    "        P.append(p)\n",
    "        p=0\n",
    "    p += np.exp((row.pmf+2*0.001987*300*np.log(row.r))/(-0.001987*300))\n",
    "    tmp = row.E\n",
    "    \n",
    "x.append(tmp)\n",
    "P.append(p)\n",
    "\n",
    "print(len(x))\n",
    "print(len(P))\n",
    "\n",
    "plt.figure(figsize=(6.4,5))\n",
    "tmp_min = min(-0.001987*300*np.log(P[1:]))\n",
    "plt.plot(x[1:],-0.001987*300*np.log(P[1:])-tmp_min)\n",
    "\n",
    "plt.xlabel('E_amhgo (Kcal/mol)', fontsize=16)\n",
    "plt.ylabel('Free Energy (Kcal/mol)', fontsize=16)\n",
    "plt.xticks(fontsize=14)\n",
    "plt.yticks(fontsize=14)\n",
    "plt.xlim(-35,1)\n",
    "plt.ylim(0,12)\n",
    "plt.savefig('pmf-E.png')"
   ]
  },
  {
   "cell_type": "code",
   "execution_count": 2,
   "metadata": {},
   "outputs": [],
   "source": [
    "b=pd.read_csv('2dpmf-3.dat', header=None, delim_whitespace=True, comment='#')\n",
    "b.columns = ['e', 'r', 'pmf','prob']\n",
    "z = b.pmf+2*0.001987*300*np.log(b.r)\n",
    "pmf_2d = z.values.reshape(150,60)\n",
    "\n",
    "q=np.exp(pmf_2d/(-0.001987*300))\n",
    "p_2d=q/np.sum(q)"
   ]
  },
  {
   "cell_type": "code",
   "execution_count": 6,
   "metadata": {},
   "outputs": [
    {
     "name": "stdout",
     "output_type": "stream",
     "text": [
      "(150, 60)\n"
     ]
    },
    {
     "name": "stderr",
     "output_type": "stream",
     "text": [
      "/home/xg23/anaconda3/lib/python3.7/site-packages/ipykernel_launcher.py:6: RuntimeWarning: divide by zero encountered in log\n",
      "  \n",
      "/home/xg23/anaconda3/lib/python3.7/site-packages/ipykernel_launcher.py:7: RuntimeWarning: divide by zero encountered in log\n",
      "  import sys\n"
     ]
    },
    {
     "data": {
      "image/png": "[encoded data removed]",
      "text/plain": [
       "<Figure size 460.8x360 with 1 Axes>"
      ]
     },
     "metadata": {
      "needs_background": "light"
     },
     "output_type": "display_data"
    }
   ],
   "source": [
    "P=np.sum(p_2d,0)\n",
    "print(np.shape(p_2d))\n",
    "np.shape(P)\n",
    "\n",
    "plt.figure(figsize=(6.4,5))\n",
    "tmp_min = min(-0.001987*300*np.log(P[:]))\n",
    "plt.plot(np.linspace(0, 6, num=61)[:-1], -0.001987*300*np.log(P[:])-tmp_min)\n",
    "\n",
    "plt.xlabel('R (nm)', fontsize=20)\n",
    "plt.ylabel('Free Energy (Kcal/mol)', fontsize=20)\n",
    "plt.xticks(fontsize=20)\n",
    "plt.yticks(fontsize=20)\n",
    "plt.xlim(0,6)\n",
    "plt.ylim(0,12)\n",
    "plt.tight_layout()\n",
    "plt.savefig('pmf-R.png')"
   ]
  },
  {
   "cell_type": "code",
   "execution_count": 26,
   "metadata": {},
   "outputs": [
    {
     "name": "stdout",
     "output_type": "stream",
     "text": [
      "(150, 60)\n"
     ]
    },
    {
     "data": {
      "text/plain": [
       "(150,)"
      ]
     },
     "execution_count": 26,
     "metadata": {},
     "output_type": "execute_result"
    }
   ],
   "source": [
    "P=np.sum(np.transpose(p_2d),0)\n",
    "print(np.shape(p_2d))\n",
    "np.shape(P)"
   ]
  },
  {
   "cell_type": "code",
   "execution_count": 27,
   "metadata": {},
   "outputs": [
    {
     "data": {
      "text/plain": [
       "(0, 12)"
      ]
     },
     "execution_count": 27,
     "metadata": {},
     "output_type": "execute_result"
    },
    {
     "data": {
      "image/png": "[encoded data removed]",
      "text/plain": [
       "<Figure size 460.8x360 with 1 Axes>"
      ]
     },
     "metadata": {
      "needs_background": "light"
     },
     "output_type": "display_data"
    }
   ],
   "source": [
    "plt.figure(figsize=(6.4,5))\n",
    "tmp_min = min(-0.001987*300*np.log(P[:]))\n",
    "plt.plot(np.linspace(-34.5,0.1, num=151)[:-1], -0.001987*300*np.log(P[:])-tmp_min)\n",
    "\n",
    "plt.xlabel('E_amhgo (Kcal/mol)', fontsize=16)\n",
    "plt.ylabel('Free Energy (Kcal/mol)', fontsize=16)\n",
    "plt.xticks(fontsize=14)\n",
    "plt.yticks(fontsize=14)\n",
    "plt.xlim(-35,1)\n",
    "plt.ylim(0,12)\n",
    "#plt.savefig('pmf-R.png')"
   ]
  },
  {
   "cell_type": "code",
   "execution_count": 7,
   "metadata": {},
   "outputs": [
    {
     "data": {
      "image/png": "[encoded data removed]",
      "text/plain": [
       "<Figure size 648x540 with 2 Axes>"
      ]
     },
     "metadata": {
      "needs_background": "light"
     },
     "output_type": "display_data"
    }
   ],
   "source": [
    "a=pd.read_csv('2dpmf-3.dat', header=None, delim_whitespace=True, comment='#')\n",
    "\n",
    "a.columns = ['beta', 'alpha', 'pmf','prob']\n",
    "b=a[a.pmf<9999]\n",
    "\n",
    "\n",
    "plt.figure(figsize=(9,7.5))\n",
    "ax = plt.gca()\n",
    "minp=np.min(b.pmf+2*0.001987*300*np.log(b.alpha))\n",
    "#CS = ax.contourf([b.beta, b.alpha], b.pmf+2*0.001987*300*np.log(b.alpha)-minp, levels, cmap=plt.get_cmap('jet'))\n",
    "CS = ax.scatter(b.beta, b.alpha, c=b.pmf+2*0.001987*300*np.log(b.alpha)-minp, cmap=plt.get_cmap('jet'), vmin=0, vmax=16)\n",
    "#CS = ax.tricontourf(b.beta, b.alpha, b.pmf+2*0.001987*300*np.log(b.beta), levels, cmap=plt.get_cmap('jet'))\n",
    "cbar = plt.colorbar(CS, ax=ax)\n",
    "cbar.ax.tick_params(labelsize=18)\n",
    "\n",
    "plt.tick_params(axis='x', labelsize=20)\n",
    "plt.tick_params(axis='y', labelsize=20)\n",
    "plt.xlim(-35,1)\n",
    "plt.ylim(0.3,6)\n",
    "plt.xlabel(\"E_amhgo (Kcal/mol)\", fontsize=24)\n",
    "plt.ylabel(\"R (nm)\", fontsize=24)\n",
    "plt.savefig(\"scatter.png\")"
   ]
  },
  {
   "cell_type": "code",
   "execution_count": null,
   "metadata": {},
   "outputs": [],
   "source": [
    "b=pd.read_csv('2dpmf-3.dat', header=None, delim_whitespace=True, comment='#')\n",
    "\n",
    "b.columns = ['beta', 'alpha', 'pmf','prob']\n",
    "#b=a[a.pmf<9999]\n",
    "\n",
    "#b.pmf[b.pmf>9999] = np.max(a.pmf) + 1\n",
    "#levels=np.arange(0.0, np.max(a.pmf) + 0.4, 0.4)\n",
    "#b.pmf[b.pmf>9999] = 20\n",
    "#b.pmf[b.pmf>20] = 20\n",
    "#levels=np.arange(-2, 20, 0.5)\n",
    "levels=np.arange(0, 16, 0.5)\n",
    "\n",
    "plt.figure(figsize=(9,7.5))\n",
    "ax = plt.gca()\n",
    "minp=np.min(b.pmf+2*0.001987*300*np.log(b.alpha))\n",
    "CS = ax.tricontourf(b.beta, b.alpha, b.pmf+2*0.001987*300*np.log(b.alpha)-minp, levels, cmap=plt.get_cmap('jet'))\n",
    "#CS = ax.tricontourf(b.beta, b.alpha, b.pmf+2*0.001987*300*np.log(b.beta), levels, cmap=plt.get_cmap('jet'))\n",
    "cbar = plt.colorbar(CS, ax=ax)\n",
    "cbar.ax.tick_params(labelsize=18)\n",
    "\n",
    "plt.tick_params(axis='x', labelsize=20)\n",
    "plt.tick_params(axis='y', labelsize=20)\n",
    "plt.xlim(-35,1)\n",
    "plt.ylim(0.3,6)\n",
    "plt.xlabel(\"E_amhgo (Kcal/mol)\", fontsize=24)\n",
    "plt.ylabel(\"R (nm)\", fontsize=24)\n",
    "plt.savefig(\"contour.png\")"
   ]
  },
  {
   "cell_type": "code",
   "execution_count": 8,
   "metadata": {},
   "outputs": [],
   "source": [
    "b=pd.read_csv('2dpmf-3.dat', header=None, delim_whitespace=True, comment='#')\n",
    "b.columns = ['e', 'r', 'pmf','prob']\n",
    "z = b.pmf+2*0.001987*300*np.log(b.r)\n",
    "pmf_2d = z.values.reshape(150,60)\n",
    "\n",
    "q=np.exp(pmf_2d/(-0.001987*300))\n",
    "p_2d=q/np.sum(q)"
   ]
  },
  {
   "cell_type": "code",
   "execution_count": 11,
   "metadata": {},
   "outputs": [],
   "source": [
    "x=[]\n",
    "y=[]\n",
    "z=[]\n",
    "binx=150\n",
    "biny=60\n",
    "binz=100\n",
    "for i in range(33):\n",
    "    at=np.loadtxt(str(i)+\"-wham-3dpc.dat\")\n",
    "    a=np.transpose(at)\n",
    "    x.append(a[-3])\n",
    "    y.append(a[-2])\n",
    "    z.append(a[-1])\n",
    "\n",
    "for i in range(33,36):\n",
    "    for j in range(9):\n",
    "        at=np.loadtxt(str(i)+\"-\"+str(j)+\"-wham-3dpc.dat\")\n",
    "        a=np.transpose(at)\n",
    "        x.append(a[-3])\n",
    "        y.append(a[-2])\n",
    "        z.append(a[-1])\n",
    "\n",
    "X=np.concatenate(x)\n",
    "Y=np.concatenate(y)\n",
    "Z=np.concatenate(z)\n",
    "\n",
    "t=scipy.stats.binned_statistic_dd([X, Y, Z], np.zeros(len(X)), statistic=\"count\",  bins=[np.linspace(-34.5,0.1, num=binx+1), np.linspace(0, 6, num=biny+1), np.linspace(-20,32, num=binz+1)])\n",
    "\n",
    "count=t.statistic\n",
    "p=np.zeros((binx,biny,binz))\n",
    "\n",
    "for i in range(binx):\n",
    "    for j in range(biny):    \n",
    "        N=sum(count[i,j,:])\n",
    "        if N>0:\n",
    "            for k in range(binz):\n",
    "                p[i][j][k]=p_2d[i][j]*count[i][j][k]/N\n",
    "            \n",
    "p_yz=np.zeros((biny,binz))\n",
    "for i in range(biny):\n",
    "    for j in range(binz):    \n",
    "        p_yz[i][j]=sum(p[:,i,j])\n",
    "\n",
    "\n",
    "fep=np.zeros((biny,binz))\n",
    "for i in range(biny):\n",
    "    for j in range(binz):\n",
    "        if p_yz[i][j]>0:\n",
    "            fep[i][j]=-0.001987*300*np.log(p_yz[i][j])\n",
    "        else:\n",
    "            fep[i][j]=np.nan"
   ]
  },
  {
   "cell_type": "code",
   "execution_count": 12,
   "metadata": {},
   "outputs": [
    {
     "data": {
      "image/png": "[encoded data removed]",
      "text/plain": [
       "<Figure size 648x540 with 2 Axes>"
      ]
     },
     "metadata": {
      "needs_background": "light"
     },
     "output_type": "display_data"
    }
   ],
   "source": [
    "plt.figure(figsize=(9,7.5))\n",
    "ax = plt.gca()\n",
    "minp=np.nanmin(fep)\n",
    "levels=np.arange(0, 14, 1)\n",
    "\n",
    "CS = ax.contourf(np.linspace(0, 6, num=biny+1)[:-1], np.linspace(-20,32, num=binz+1)[:-1], np.transpose(fep-minp), levels, cmap=plt.get_cmap('jet'))\n",
    "cbar = plt.colorbar(CS, ax=ax)\n",
    "cbar.ax.tick_params(labelsize=18)\n",
    "\n",
    "plt.tick_params(axis='x', labelsize=20)\n",
    "plt.tick_params(axis='y', labelsize=20)\n",
    "plt.xlim(0,6)\n",
    "plt.ylim(-20,32)\n",
    "plt.xlabel(\"R (nm)\", fontsize=24)\n",
    "plt.ylabel(\"PC0\", fontsize=24)\n",
    "plt.savefig(\"pcpmf.png\")"
   ]
  },
  {
   "cell_type": "code",
   "execution_count": 13,
   "metadata": {},
   "outputs": [
    {
     "data": {
      "text/plain": [
       "84000"
      ]
     },
     "execution_count": 13,
     "metadata": {},
     "output_type": "execute_result"
    }
   ],
   "source": [
    "a=pd.read_csv(\"0-wham-3dpc.dat\", header=None, delim_whitespace=True, comment='#')\n",
    "Nfile=0*np.ones(len(a))\n",
    "a[\"Nfile\"]=Nfile.tolist()\n",
    "\n",
    "for i in range(1, 33):\n",
    "    at=pd.read_csv(str(i)+\"-wham-3dpc.dat\", header=None, delim_whitespace=True, comment='#')\n",
    "    Nfile=i*np.ones(len(at))\n",
    "    at[\"Nfile\"]=Nfile.tolist()\n",
    "    a=a.append(at)\n",
    "\n",
    "for i in range(33,36):\n",
    "    for j in range(9):\n",
    "        at=pd.read_csv(str(i)+\"-\"+str(j)+\"-wham-3dpc.dat\", header=None, delim_whitespace=True, comment='#')\n",
    "        Nfile=(i+0.1*j)*np.ones(len(at))\n",
    "        at[\"Nfile\"]=Nfile.tolist()\n",
    "        a=a.append(at)\n",
    "        \n",
    "len(a)"
   ]
  },
  {
   "cell_type": "code",
   "execution_count": 14,
   "metadata": {},
   "outputs": [
    {
     "data": {
      "text/html": [
       "<div>\n",
       "<style scoped>\n",
       "    .dataframe tbody tr th:only-of-type {\n",
       "        vertical-align: middle;\n",
       "    }\n",
       "\n",
       "    .dataframe tbody tr th {\n",
       "        vertical-align: top;\n",
       "    }\n",
       "\n",
       "    .dataframe thead th {\n",
       "        text-align: right;\n",
       "    }\n",
       "</style>\n",
       "<table border=\"1\" class=\"dataframe\">\n",
       "  <thead>\n",
       "    <tr style=\"text-align: right;\">\n",
       "      <th></th>\n",
       "      <th>step</th>\n",
       "      <th>E</th>\n",
       "      <th>r</th>\n",
       "      <th>pc</th>\n",
       "      <th>Nfile</th>\n",
       "    </tr>\n",
       "  </thead>\n",
       "  <tbody>\n",
       "    <tr>\n",
       "      <td>0</td>\n",
       "      <td>200</td>\n",
       "      <td>-33.809</td>\n",
       "      <td>0.576</td>\n",
       "      <td>-1.991</td>\n",
       "      <td>0.0</td>\n",
       "    </tr>\n",
       "    <tr>\n",
       "      <td>1</td>\n",
       "      <td>201</td>\n",
       "      <td>-32.394</td>\n",
       "      <td>0.656</td>\n",
       "      <td>-1.060</td>\n",
       "      <td>0.0</td>\n",
       "    </tr>\n",
       "    <tr>\n",
       "      <td>2</td>\n",
       "      <td>202</td>\n",
       "      <td>-33.304</td>\n",
       "      <td>0.652</td>\n",
       "      <td>-0.804</td>\n",
       "      <td>0.0</td>\n",
       "    </tr>\n",
       "    <tr>\n",
       "      <td>3</td>\n",
       "      <td>203</td>\n",
       "      <td>-32.800</td>\n",
       "      <td>0.609</td>\n",
       "      <td>-1.031</td>\n",
       "      <td>0.0</td>\n",
       "    </tr>\n",
       "    <tr>\n",
       "      <td>4</td>\n",
       "      <td>204</td>\n",
       "      <td>-33.754</td>\n",
       "      <td>0.687</td>\n",
       "      <td>-1.379</td>\n",
       "      <td>0.0</td>\n",
       "    </tr>\n",
       "    <tr>\n",
       "      <td>...</td>\n",
       "      <td>...</td>\n",
       "      <td>...</td>\n",
       "      <td>...</td>\n",
       "      <td>...</td>\n",
       "      <td>...</td>\n",
       "    </tr>\n",
       "    <tr>\n",
       "      <td>1395</td>\n",
       "      <td>1595</td>\n",
       "      <td>-0.000</td>\n",
       "      <td>4.647</td>\n",
       "      <td>-10.909</td>\n",
       "      <td>35.8</td>\n",
       "    </tr>\n",
       "    <tr>\n",
       "      <td>1396</td>\n",
       "      <td>1596</td>\n",
       "      <td>-0.000</td>\n",
       "      <td>4.699</td>\n",
       "      <td>-9.168</td>\n",
       "      <td>35.8</td>\n",
       "    </tr>\n",
       "    <tr>\n",
       "      <td>1397</td>\n",
       "      <td>1597</td>\n",
       "      <td>-0.000</td>\n",
       "      <td>4.801</td>\n",
       "      <td>-9.717</td>\n",
       "      <td>35.8</td>\n",
       "    </tr>\n",
       "    <tr>\n",
       "      <td>1398</td>\n",
       "      <td>1598</td>\n",
       "      <td>-0.000</td>\n",
       "      <td>5.185</td>\n",
       "      <td>-8.904</td>\n",
       "      <td>35.8</td>\n",
       "    </tr>\n",
       "    <tr>\n",
       "      <td>1399</td>\n",
       "      <td>1599</td>\n",
       "      <td>-0.000</td>\n",
       "      <td>5.149</td>\n",
       "      <td>-10.016</td>\n",
       "      <td>35.8</td>\n",
       "    </tr>\n",
       "  </tbody>\n",
       "</table>\n",
       "<p>84000 rows × 5 columns</p>\n",
       "</div>"
      ],
      "text/plain": [
       "      step       E      r      pc  Nfile\n",
       "0      200 -33.809  0.576  -1.991    0.0\n",
       "1      201 -32.394  0.656  -1.060    0.0\n",
       "2      202 -33.304  0.652  -0.804    0.0\n",
       "3      203 -32.800  0.609  -1.031    0.0\n",
       "4      204 -33.754  0.687  -1.379    0.0\n",
       "...    ...     ...    ...     ...    ...\n",
       "1395  1595  -0.000  4.647 -10.909   35.8\n",
       "1396  1596  -0.000  4.699  -9.168   35.8\n",
       "1397  1597  -0.000  4.801  -9.717   35.8\n",
       "1398  1598  -0.000  5.185  -8.904   35.8\n",
       "1399  1599  -0.000  5.149 -10.016   35.8\n",
       "\n",
       "[84000 rows x 5 columns]"
      ]
     },
     "execution_count": 14,
     "metadata": {},
     "output_type": "execute_result"
    }
   ],
   "source": [
    "a.columns = ['step','E', 'r', 'pc','Nfile']\n",
    "a"
   ]
  },
  {
   "cell_type": "code",
   "execution_count": 30,
   "metadata": {},
   "outputs": [
    {
     "data": {
      "text/plain": [
       "(array([ 0.,  0.,  0.,  0.,  0., 15.,  0.,  0.,  0.,  0.]),\n",
       " array([-0.5, -0.4, -0.3, -0.2, -0.1,  0. ,  0.1,  0.2,  0.3,  0.4,  0.5]),\n",
       " <a list of 10 Patch objects>)"
      ]
     },
     "execution_count": 30,
     "metadata": {},
     "output_type": "execute_result"
    },
    {
     "data": {
      "image/png": "[encoded data removed]",
      "text/plain": [
       "<Figure size 432x288 with 1 Axes>"
      ]
     },
     "metadata": {
      "needs_background": "light"
     },
     "output_type": "display_data"
    }
   ],
   "source": [
    "R=5\n",
    "PC=-10\n",
    "\n",
    "dr=0.05\n",
    "dpc=0.05\n",
    "tmp=a[(a.r<R+dr)&(a.r>R-dr)&(a.pc<PC+dpc)&(a.pc>PC-dpc)]\n",
    "plt.hist(tmp.E)"
   ]
  },
  {
   "cell_type": "code",
   "execution_count": 31,
   "metadata": {},
   "outputs": [
    {
     "data": {
      "text/html": [
       "<div>\n",
       "<style scoped>\n",
       "    .dataframe tbody tr th:only-of-type {\n",
       "        vertical-align: middle;\n",
       "    }\n",
       "\n",
       "    .dataframe tbody tr th {\n",
       "        vertical-align: top;\n",
       "    }\n",
       "\n",
       "    .dataframe thead th {\n",
       "        text-align: right;\n",
       "    }\n",
       "</style>\n",
       "<table border=\"1\" class=\"dataframe\">\n",
       "  <thead>\n",
       "    <tr style=\"text-align: right;\">\n",
       "      <th></th>\n",
       "      <th>step</th>\n",
       "      <th>E</th>\n",
       "      <th>r</th>\n",
       "      <th>pc</th>\n",
       "      <th>Nfile</th>\n",
       "    </tr>\n",
       "  </thead>\n",
       "  <tbody>\n",
       "    <tr>\n",
       "      <td>147</td>\n",
       "      <td>347</td>\n",
       "      <td>-0.0</td>\n",
       "      <td>5.049</td>\n",
       "      <td>-9.965</td>\n",
       "      <td>33.8</td>\n",
       "    </tr>\n",
       "    <tr>\n",
       "      <td>197</td>\n",
       "      <td>397</td>\n",
       "      <td>-0.0</td>\n",
       "      <td>5.042</td>\n",
       "      <td>-10.009</td>\n",
       "      <td>33.8</td>\n",
       "    </tr>\n",
       "    <tr>\n",
       "      <td>786</td>\n",
       "      <td>986</td>\n",
       "      <td>-0.0</td>\n",
       "      <td>4.995</td>\n",
       "      <td>-10.029</td>\n",
       "      <td>33.8</td>\n",
       "    </tr>\n",
       "    <tr>\n",
       "      <td>1178</td>\n",
       "      <td>1378</td>\n",
       "      <td>-0.0</td>\n",
       "      <td>5.026</td>\n",
       "      <td>-9.997</td>\n",
       "      <td>33.8</td>\n",
       "    </tr>\n",
       "    <tr>\n",
       "      <td>1208</td>\n",
       "      <td>1408</td>\n",
       "      <td>-0.0</td>\n",
       "      <td>5.018</td>\n",
       "      <td>-10.024</td>\n",
       "      <td>33.8</td>\n",
       "    </tr>\n",
       "    <tr>\n",
       "      <td>252</td>\n",
       "      <td>452</td>\n",
       "      <td>-0.0</td>\n",
       "      <td>4.995</td>\n",
       "      <td>-9.968</td>\n",
       "      <td>34.8</td>\n",
       "    </tr>\n",
       "    <tr>\n",
       "      <td>257</td>\n",
       "      <td>457</td>\n",
       "      <td>-0.0</td>\n",
       "      <td>5.001</td>\n",
       "      <td>-9.966</td>\n",
       "      <td>34.8</td>\n",
       "    </tr>\n",
       "    <tr>\n",
       "      <td>504</td>\n",
       "      <td>704</td>\n",
       "      <td>-0.0</td>\n",
       "      <td>5.016</td>\n",
       "      <td>-10.017</td>\n",
       "      <td>34.8</td>\n",
       "    </tr>\n",
       "    <tr>\n",
       "      <td>547</td>\n",
       "      <td>747</td>\n",
       "      <td>-0.0</td>\n",
       "      <td>5.007</td>\n",
       "      <td>-10.016</td>\n",
       "      <td>34.8</td>\n",
       "    </tr>\n",
       "    <tr>\n",
       "      <td>747</td>\n",
       "      <td>947</td>\n",
       "      <td>-0.0</td>\n",
       "      <td>5.019</td>\n",
       "      <td>-9.952</td>\n",
       "      <td>34.8</td>\n",
       "    </tr>\n",
       "    <tr>\n",
       "      <td>786</td>\n",
       "      <td>986</td>\n",
       "      <td>-0.0</td>\n",
       "      <td>5.036</td>\n",
       "      <td>-10.004</td>\n",
       "      <td>34.8</td>\n",
       "    </tr>\n",
       "    <tr>\n",
       "      <td>1148</td>\n",
       "      <td>1348</td>\n",
       "      <td>-0.0</td>\n",
       "      <td>4.988</td>\n",
       "      <td>-10.025</td>\n",
       "      <td>34.8</td>\n",
       "    </tr>\n",
       "    <tr>\n",
       "      <td>1389</td>\n",
       "      <td>1589</td>\n",
       "      <td>-0.0</td>\n",
       "      <td>4.979</td>\n",
       "      <td>-9.974</td>\n",
       "      <td>34.8</td>\n",
       "    </tr>\n",
       "    <tr>\n",
       "      <td>584</td>\n",
       "      <td>784</td>\n",
       "      <td>-0.0</td>\n",
       "      <td>4.954</td>\n",
       "      <td>-9.975</td>\n",
       "      <td>35.8</td>\n",
       "    </tr>\n",
       "    <tr>\n",
       "      <td>620</td>\n",
       "      <td>820</td>\n",
       "      <td>-0.0</td>\n",
       "      <td>4.973</td>\n",
       "      <td>-10.046</td>\n",
       "      <td>35.8</td>\n",
       "    </tr>\n",
       "  </tbody>\n",
       "</table>\n",
       "</div>"
      ],
      "text/plain": [
       "      step    E      r      pc  Nfile\n",
       "147    347 -0.0  5.049  -9.965   33.8\n",
       "197    397 -0.0  5.042 -10.009   33.8\n",
       "786    986 -0.0  4.995 -10.029   33.8\n",
       "1178  1378 -0.0  5.026  -9.997   33.8\n",
       "1208  1408 -0.0  5.018 -10.024   33.8\n",
       "252    452 -0.0  4.995  -9.968   34.8\n",
       "257    457 -0.0  5.001  -9.966   34.8\n",
       "504    704 -0.0  5.016 -10.017   34.8\n",
       "547    747 -0.0  5.007 -10.016   34.8\n",
       "747    947 -0.0  5.019  -9.952   34.8\n",
       "786    986 -0.0  5.036 -10.004   34.8\n",
       "1148  1348 -0.0  4.988 -10.025   34.8\n",
       "1389  1589 -0.0  4.979  -9.974   34.8\n",
       "584    784 -0.0  4.954  -9.975   35.8\n",
       "620    820 -0.0  4.973 -10.046   35.8"
      ]
     },
     "execution_count": 31,
     "metadata": {},
     "output_type": "execute_result"
    }
   ],
   "source": [
    "E=-0\n",
    "\n",
    "de=0.1\n",
    "tmp[(tmp.E<E+de)&(tmp.E>E-de)]"
   ]
  },
  {
   "cell_type": "code",
   "execution_count": null,
   "metadata": {},
   "outputs": [],
   "source": []
  }
 ],
 "metadata": {
  "kernelspec": {
   "display_name": "Python 3",
   "language": "python",
   "name": "python3"
  },
  "language_info": {
   "codemirror_mode": {
    "name": "ipython",
    "version": 3
   },
   "file_extension": ".py",
   "mimetype": "text/x-python",
   "name": "python",
   "nbconvert_exporter": "python",
   "pygments_lexer": "ipython3",
   "version": "3.7.1"
  }
 },
 "nbformat": 4,
 "nbformat_minor": 2
}
